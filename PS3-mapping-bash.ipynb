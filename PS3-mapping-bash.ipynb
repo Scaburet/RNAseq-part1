{
 "cells": [
  {
   "cell_type": "markdown",
   "metadata": {},
   "source": [
    "# __RNAseq Analysis Module__"
   ]
  },
  {
   "cell_type": "markdown",
   "metadata": {},
   "source": [
    "## **Practical Session 3: Quality check of raw data and mapping**\n",
    "\n",
    "Tuesday, the 1st of December, 2020   \n",
    "Claire Vandiedonck and Sandrine Caburet - 2020  \n",
    "\n",
    "\n",
    "   1. Getting started   \n",
    "   2. Quality controls on Cparapsilosis fastq files   \n",
    "   3. Mapping the reads on CParasilosis genome using the BOWTIE program  \n",
    "   4. Managing the output files\n",
    "   5. Batch analysing of the other samples\n"
   ]
  },
  {
   "cell_type": "markdown",
   "metadata": {},
   "source": [
    "---\n",
    "## **Before going further**\n",
    "\n",
    "<div class=\"alert alert-block alert-danger\"><b>Caution:</b> \n",
    "Before starting the analysis, save a backup copy of this notebok : in the left-hand panel, right-click on this file and select \"Duplicate\"<br>\n",
    "You can also make backups during the analysis. Don't forget to save your notebook regularly.\n",
    "<div>"
   ]
  },
  {
   "cell_type": "markdown",
   "metadata": {},
   "source": [
    "<div class=\"alert alert-block alert-info\"> \n",
    "    \n",
    "__*About jupyter notebooks:*__\n",
    "\n",
    "- To add a new cell, click on the \"+\" icon in the toolbar above your notebook\n",
    "- You can \"click and drag\" to move a cell up or down\n",
    "- You choose the type of cell in the toolbar above your notebook:\n",
    "    - 'Code' to enter command lines to be executed \n",
    "    - 'Markdown' cells to add text, that can be formatted with some characters\n",
    "- To execute a 'Code' cell, press SHIFT+ENTER or click on the \"play\" icon \n",
    "- To display a 'Markdown' cell, press SHIFT+ENTER or click on the \"play\" icon  \n",
    "- To modify a 'Markdown'cell, double-click on it\n",
    "\n",
    "  \n",
    "*To make nice html reports with markdown:* [html visualization tool1](https://dillinger.io/) or [html visualization tool2](https://stackedit.io/app#) and [to draw nice tables](https://www.tablesgenerator.com/markdown_tables ) and the [Ultimate guide](https://medium.com/analytics-vidhya/the-ultimate-markdown-guide-for-jupyter-notebook-d5e5abf728fd)   \n",
    "*Further reading on JupyterLab notebooks:*  https://jupyterlab.readthedocs.io/en/latest/user/notebook.html <br>\n",
    "*Here we are using JupyterLab interface implemented as part of the https://plasmabio.org/ project lead by Sandrine Caburet, Pierre Poulain and Claire Vandiedonck.*\n",
    "\n",
    "</div>    "
   ]
  },
  {
   "cell_type": "markdown",
   "metadata": {},
   "source": [
    "___\n",
    "\n",
    "__*=> About this jupyter notebook*__\n",
    "\n",
    "This a jupyter notebook in **bash**, meaning that the commands you will enter or run in `Code` cells are directly understood by the server. <br>You could run the same commands in a `Terminal` (the frightening black window that informaticians use :-D). \n",
    "\n",
    ">_If you want to see this by yourself, you can open a terminal on adenine:_\n",
    ">- _in the `File` menu in the top bar, select `New Launcher` or click on the `+` sign below_\n",
    ">- _open either a bash `Console` or a `Terminal`_\n",
    ">- _you'll be able to copy and paste the commands from the `Code` cells of the notebook in the \"bottom cell\" (for the console) or after the `$` sign (for the terminal)_\n",
    ">\n",
    ">_This is for your information only, and not needed. All the commands are already included in this notebook_\n",
    "<br>"
   ]
  },
  {
   "cell_type": "raw",
   "metadata": {},
   "source": [
    "In this practical, you will run one command at a time."
   ]
  },
  {
   "cell_type": "markdown",
   "metadata": {},
   "source": [
    "- In Unix, all characters are case sensitive.\n",
    "- It is good practice to avoid accents and special characters.   \n",
    "- Within `Code` cells, lines starting with a `#` are comments and are not interpreted as a command. They are meant to help you.  \n",
    "- You may add your own comments as well, either in a `Code` cell using this `#`, or in a new `Markdown` cell added with the \"+\" above.  \n",
    "- <mark>If you add cells with comments, or modify existing cells, **don't forget to save your notebook**.<mark>\n",
    "___"
   ]
  },
  {
   "cell_type": "markdown",
   "metadata": {},
   "source": [
    "## **I - Getting started**\n",
    "\n",
    "### **1- Working directory**\n",
    "\n",
    "The working directory is where you are currently located in the server. By default, for this practical session using this JupyterLab notebook, this is the folder displayed by the opening of the environment, that you performed when you selected the correct 'server' and launched it: it created the corresponding folder in you home.  \n",
    "\n",
    "To check where you are working, use the `pwd` command, which stands for \"path to working directory\"."
   ]
  },
  {
   "cell_type": "code",
   "execution_count": null,
   "metadata": {},
   "outputs": [],
   "source": [
    "pwd"
   ]
  },
  {
   "cell_type": "markdown",
   "metadata": {},
   "source": [
    "<div class=\"alert alert-block alert-warning\"><b>The result should be like this:</b>`/srv/home/mylogin/m2meg-rnaseq-tp3to5-bash` with your \"login\". If not, call us! We can change a working directory using the Unix command <b>cd</b> (change directory)<div>"
   ]
  },
  {
   "cell_type": "markdown",
   "metadata": {},
   "source": [
    ">_Here is a link for some basic Unix commands: https://files.fosswire.com/2007/08/fwunixref.pdf (there are plenty of other good ones on the net).<br>\n",
    ">You can also get an explanation of general Unix commands using this tool: https://explainshell.com/. <br>\n",
    "> Some other tips: you may use the autocompletion of the names of your files and folders with the tab arrow on your keyboard._"
   ]
  },
  {
   "cell_type": "markdown",
   "metadata": {},
   "source": [
    "The content of this working directory is displayed in the left panel. You can also list the content of this folder with the `ls` command (which stands for \"list\"):"
   ]
  },
  {
   "cell_type": "code",
   "execution_count": null,
   "metadata": {},
   "outputs": [],
   "source": [
    "# the option -l will provide details of size for each file, \n",
    "# the option h stands for human, to read the file size in a human easy manner. \n",
    "# the two options are combined with -lh\n",
    "# you may add -tr as well to see the files sorted by reverse time.\n",
    "\n",
    "ls -lh"
   ]
  },
  {
   "cell_type": "markdown",
   "metadata": {},
   "source": [
    "  "
   ]
  },
  {
   "cell_type": "markdown",
   "metadata": {},
   "source": [
    "### **2- Data** \n",
    "The data files are already present on the server, in the `/srv/data/meg-m2-rnaseq/genome/` and in `/srv/data/meg-m2-rnaseq/experimental_data` folders.\n",
    "<br><mark> Do not copy them to your working directory. </mark> <br>\n",
    "We will directly read them from where they are by indicating the  **absolute path** to these folders.\n",
    "\n",
    "#### **2.a- list of input files:**"
   ]
  },
  {
   "cell_type": "code",
   "execution_count": null,
   "metadata": {},
   "outputs": [],
   "source": [
    "# Here we list the content of the folder containing the genome data\n",
    "\n",
    "ls -lh /srv/data/meg-m2-rnaseq/genome/"
   ]
  },
  {
   "cell_type": "code",
   "execution_count": null,
   "metadata": {},
   "outputs": [],
   "source": [
    "# Here we list the content of the folder containing the experimental data\n",
    "\n",
    "ls -lhtr /srv/data/meg-m2-rnaseq/experimental_data/"
   ]
  },
  {
   "cell_type": "markdown",
   "metadata": {},
   "source": [
    "You may count the number of files in one folder using the following command. The symbol `|` is a \"pipe\". It redirects the output of the command on its left to its right. The command `grep` (*globally search for a regular expression and print matching lines*) is used to identify a specific pattern. The final part of the command `wc -l` is used to count the number of lines."
   ]
  },
  {
   "cell_type": "code",
   "execution_count": null,
   "metadata": {},
   "outputs": [],
   "source": [
    "ls /srv/data/meg-m2-rnaseq/experimental_data/ | grep \"fastq\" | wc -l "
   ]
  },
  {
   "cell_type": "markdown",
   "metadata": {},
   "source": [
    "The first two files are `.fastq` files containing raw data of the Immunina sequencer. The other 8 are gunzipped `.gz` compressed files. You can notice their size is reduced compared to the `.fastq` files. Most genomics tools can work with both compressed and uncompressed files.\n",
    "\n",
    "#### **2.b- checking files integrity:**"
   ]
  },
  {
   "cell_type": "markdown",
   "metadata": {},
   "source": [
    "<div class=\"alert alert-block alert-warning\"><b>Checking the data are not corrupted</b><br>\n",
    "Whenever you get such input files, it is mandatory to verify that they are intact and not corrupted before analysing the data further.\n",
    "This can be performed by computing a <b>md5sum</b>, a kind of \"barcode\" or \"fingerprint\" of each file. It should remain the same after a copy on your computer for example.<br>\n",
    "Similarly in your laboratories, if you get files from collaborators or a Next-Generation-Sequencing platform, always ask for the md5sums to check files integrity<div>"
   ]
  },
  {
   "cell_type": "markdown",
   "metadata": {},
   "source": [
    "You may either get the md5sum of one file at a time like this using the command `md5sum` followed by a space and the name of the file:\n",
    "\n",
    "   - on the __genomic files__:"
   ]
  },
  {
   "cell_type": "code",
   "execution_count": null,
   "metadata": {},
   "outputs": [],
   "source": [
    "md5sum /srv/data/meg-m2-rnaseq/genome/C_parapsilosis_CGD.fasta"
   ]
  },
  {
   "cell_type": "markdown",
   "metadata": {},
   "source": [
    "Or you may get the `md5sum` fingerprint of all the files at once in the folder by using `*` which stands for \"anything\""
   ]
  },
  {
   "cell_type": "code",
   "execution_count": null,
   "metadata": {},
   "outputs": [],
   "source": [
    "# In a command, * stands for 'anything'.\n",
    "\n",
    "md5sum /srv/data/meg-m2-rnaseq/genome/*\n",
    "\n",
    "#You should get the following \"barcodes\" for each file :\n",
    "# 6455d97a060c3c7d1e94112f818fa046  /srv/data/meg-m2-rnaseq/C_parapsilosis_CDC317_GO_distrib-5958g.txt\n",
    "# e189032dafc2b7013eeae7d33cbf9458  /srv/data/meg-m2-rnaseq/C_parapsilosis_CGD.fasta\n",
    "# 537217ec9ac54343af31b28521c0c6f3  /srv/data/meg-m2-rnaseq/genome/C_parapsilosis_CGD.fasta.fai\n",
    "# e86c62e99a240c0ac309cd067d105522  /srv/data/meg-m2-rnaseq/C_parapsilosis_ORFs.gff\n",
    "# be6f316b0fcca1b653ee5b98648ddfb2  /srv/data/meg-m2-rnaseq/genome/md5sums.txt\n"
   ]
  },
  {
   "cell_type": "markdown",
   "metadata": {},
   "source": [
    "What is even better is to have already in the folder a file, classically called `md5sum.txt`, with the outputs of the above `md5sum` command. Should you have the rights to do it, the command to generate that file would be:"
   ]
  },
  {
   "cell_type": "raw",
   "metadata": {},
   "source": [
    "md5sum /srv/data/meg-m2-rnaseq/genome/* > md5sums.txt"
   ]
  },
  {
   "cell_type": "markdown",
   "metadata": {},
   "source": [
    "Thus, you can automatically do the comparison of the md5sum fingerprints you obtain with the ones stored in the `md5sum.txt` file in a recursive manner using the argument `-c`. This is very convenient when you have lot of files to check from a platform."
   ]
  },
  {
   "cell_type": "code",
   "execution_count": null,
   "metadata": {},
   "outputs": [],
   "source": [
    "md5sum -c /srv/data/meg-m2-rnaseq/genome/md5sums.txt "
   ]
  },
  {
   "cell_type": "markdown",
   "metadata": {},
   "source": [
    "_Remark: To get information on a Unix command, just enter the name of the command followed by `--help` as below. If it is installed on the server/computer, you can also enter the command `man` followed by the name of the command._"
   ]
  },
  {
   "cell_type": "code",
   "execution_count": null,
   "metadata": {},
   "outputs": [],
   "source": [
    "md5sum --help\n",
    "#man md5sum #"
   ]
  },
  {
   "cell_type": "markdown",
   "metadata": {},
   "source": [
    "   - on the __experimental data__ :\n",
    "   \n",
    "*Be patient, it can take a minute.*"
   ]
  },
  {
   "cell_type": "code",
   "execution_count": null,
   "metadata": {},
   "outputs": [],
   "source": [
    "md5sum -c /srv/data/meg-m2-rnaseq/experimental_data/md5sums.txt\n",
    "\n",
    "#You should get the following \"barcodes\" for each file :\n",
    "\n",
    "# 2fb96155f5c708709a7539c7ff19e9ff  /srv/data/meg-m2-rnaseq/Hypoxia_1.fastq\n",
    "# 0d8d81a7464f6b662b89a9cea5bb8d1c  /srv/data/meg-m2-rnaseq/Normoxia_1.fastq\n",
    "# 18a714651a337245bc728f3de2d14c87  /srv/data/meg-m2-rnaseq/experimental_data/SRR352261.fastqsanger.gz\n",
    "# 72249ca523761575a85c61345529595b  /srv/data/meg-m2-rnaseq/experimental_data/SRR352264.fastqsanger.gz\n",
    "# 857247cf34e788aef24aeaf9c4081a10  /srv/data/meg-m2-rnaseq/experimental_data/SRR352266.fastqsanger.gz\n",
    "# d7f3e511652f9f6f08092cb6dbde37b4  /srv/data/meg-m2-rnaseq/experimental_data/SRR352267.fastqsanger.gz\n",
    "# 55350bf610cafb705956068851038447  /srv/data/meg-m2-rnaseq/experimental_data/SRR352270.fastqsanger.gz\n",
    "# fa987e543da5da808dd73e36e341c621  /srv/data/meg-m2-rnaseq/experimental_data/SRR352273.fastqsanger.gz\n",
    "# 4a3449674775c9baa76296244dfe9e3d  /srv/data/meg-m2-rnaseq/experimental_data/SRR352274.fastqsanger.gz\n",
    "# 39dc93ec7820c315d1a9742444b7f83b  /srv/data/meg-m2-rnaseq/experimental_data/SRR352276.fastqsanger.gz"
   ]
  },
  {
   "cell_type": "markdown",
   "metadata": {},
   "source": [
    "### **3- Creating a folder for analysis results:**\n",
    "\n",
    "Now we'll create a new directory to store the results of our analysis, using the _*mkdir*_ command, for \"make directory\", and within it a sub-folder for quality checks outputs:"
   ]
  },
  {
   "cell_type": "code",
   "execution_count": null,
   "metadata": {},
   "outputs": [],
   "source": [
    "  mkdir Results\n",
    "  mkdir Results/Fastqc"
   ]
  },
  {
   "cell_type": "markdown",
   "metadata": {},
   "source": [
    "You can check the arborescence of your folder with the Unix command `tree`."
   ]
  },
  {
   "cell_type": "code",
   "execution_count": null,
   "metadata": {},
   "outputs": [],
   "source": [
    "tree"
   ]
  },
  {
   "cell_type": "markdown",
   "metadata": {},
   "source": [
    "_Of note, the `binder` folder was automatically created with your environment. For those interested, it contains all the configuration information to recreate a similar JupyterLab environment outside of adenine._ \n",
    "\n",
    "**=> Well done, you are now ready to check and analyse the data!** \n",
    "\n",
    "-------"
   ]
  },
  {
   "cell_type": "markdown",
   "metadata": {},
   "source": [
    "## **II - Quality controls on *CParapsilosis* `.fastq` and `fastq.gz` files**\n",
    "\n",
    "### **1- Examining the data**\n",
    "\n",
    "- `.fastq` files are readable by the human eye, and we can display the first and last lines of each file, using the Unix `head` and `tail` commands:  "
   ]
  },
  {
   "cell_type": "code",
   "execution_count": null,
   "metadata": {},
   "outputs": [],
   "source": [
    "head /srv/data/meg-m2-rnaseq/experimental_data/Normoxia_1.fastq"
   ]
  },
  {
   "cell_type": "code",
   "execution_count": null,
   "metadata": {},
   "outputs": [],
   "source": [
    "tail /srv/data/meg-m2-rnaseq/experimental_data/Normoxia_1.fastq"
   ]
  },
  {
   "cell_type": "code",
   "execution_count": null,
   "metadata": {},
   "outputs": [],
   "source": [
    "head /srv/data/meg-m2-rnaseq/experimental_data/Hypoxia_1.fastq"
   ]
  },
  {
   "cell_type": "code",
   "execution_count": null,
   "metadata": {},
   "outputs": [],
   "source": [
    "tail /srv/data/meg-m2-rnaseq/experimental_data/Hypoxia_1.fastq"
   ]
  },
  {
   "cell_type": "markdown",
   "metadata": {},
   "source": [
    ">Another great command Unix command is `less` when installed. If you want to try it on adenine, you have to do it in a terminal (it does not work in this notebook). It displays initially the first lines of a file. By pressing the spacebar, you will see the next lines. The parameters `S` and `N` respectively display the lines with no wrap and add the line number at the beginning. Press `Q` to escape."
   ]
  },
  {
   "cell_type": "markdown",
   "metadata": {},
   "source": [
    "> _For geeks only:_\n",
    ">\n",
    "> Similarly, you can count the number of rows in a file:"
   ]
  },
  {
   "cell_type": "code",
   "execution_count": null,
   "metadata": {},
   "outputs": [],
   "source": [
    "wc -l /srv/data/meg-m2-rnaseq/experimental_data/Hypoxia_1.fastq"
   ]
  },
  {
   "cell_type": "markdown",
   "metadata": {},
   "source": [
    "> and get the number of reads by dividing by 4:"
   ]
  },
  {
   "cell_type": "code",
   "execution_count": null,
   "metadata": {},
   "outputs": [],
   "source": [
    "nb_row=$(wc -l /srv/data/meg-m2-rnaseq/experimental_data/Hypoxia_1.fastq | cut -d\" \" -f1) \n",
    "echo $((${nb_row}/4))"
   ]
  },
  {
   "cell_type": "markdown",
   "metadata": {},
   "source": [
    "> or directly get the number of reads noticing all reads in this file start with an `@noO2`:"
   ]
  },
  {
   "cell_type": "code",
   "execution_count": null,
   "metadata": {},
   "outputs": [],
   "source": [
    "grep \"^@noO2\" /srv/data/meg-m2-rnaseq/experimental_data/Hypoxia_1.fastq | wc -l"
   ]
  },
  {
   "cell_type": "markdown",
   "metadata": {},
   "source": [
    "- On the `gz` files, you need to combine the `zcat` command first that reads compressed files, and the `head` or `tail` commands using a pipe `|`."
   ]
  },
  {
   "cell_type": "code",
   "execution_count": null,
   "metadata": {},
   "outputs": [],
   "source": [
    "zcat /srv/data/meg-m2-rnaseq/experimental_data/SRR352261.fastqsanger.gz | head"
   ]
  },
  {
   "cell_type": "markdown",
   "metadata": {},
   "source": [
    "> and for geeks, the command `zgrep` will do the pattern search in a gz file: "
   ]
  },
  {
   "cell_type": "code",
   "execution_count": null,
   "metadata": {},
   "outputs": [],
   "source": [
    "zgrep \"^@SRR\" /srv/data/meg-m2-rnaseq/experimental_data/SRR352261.fastqsanger.gz | wc -l"
   ]
  },
  {
   "cell_type": "markdown",
   "metadata": {},
   "source": [
    "<div class=\"alert alert-block alert-success\"><b>=> Question: What can you say on the data?</b><br>\n",
    "\n",
    "*(you can click here to add your answers directly in this markdown cell)*<br>\n",
    "\n",
    "For each dataset:\n",
    "\n",
    "- How many reads do you have in each file?\n",
    "- What is the size of the reads?<\\div>"
   ]
  },
  {
   "cell_type": "markdown",
   "metadata": {},
   "source": [
    "### **2- fastqc**\n",
    "Now we run the fastqc quality control with **FASTQC** (https://www.bioinformatics.babraham.ac.uk/projects/fastqc/) with the following version of the tool."
   ]
  },
  {
   "cell_type": "code",
   "execution_count": null,
   "metadata": {},
   "outputs": [],
   "source": [
    "fastqc --version"
   ]
  },
  {
   "cell_type": "markdown",
   "metadata": {},
   "source": [
    "To run it on a sample, use the following command lines, where we indicate after the command `fastqc` and the name of the file to examine (with its path) and where to write the results after the argument `outdir`. Here the dot `.` stands for \"current working directory\". "
   ]
  },
  {
   "cell_type": "code",
   "execution_count": null,
   "metadata": {},
   "outputs": [],
   "source": [
    "fastqc /srv/data/meg-m2-rnaseq/experimental_data/Normoxia_1.fastq --outdir ./Results/Fastqc"
   ]
  },
  {
   "cell_type": "markdown",
   "metadata": {},
   "source": [
    "The ouputs are in a `.zip` folder you could unzip with the `unzip` Unix command. But there is no need to open do so, as a summary in `.html` format is also provided. To open this `html` file, in the left-hand pannel of the JupyterLab double-click the \"Results\" folder, and in it, on the html file: it should open in a new tab beside this notebook."
   ]
  },
  {
   "cell_type": "code",
   "execution_count": null,
   "metadata": {},
   "outputs": [],
   "source": [
    "fastqc /srv/data/meg-m2-rnaseq/experimental_data/Hypoxia_1.fastq --outdir ./Results/Fastqc"
   ]
  },
  {
   "cell_type": "markdown",
   "metadata": {},
   "source": [
    "> In some web browsers, the display of the letters and special characters might not be correct. If you encounter this problem with firefox, open the menu on the top right hand corner. Click on \"customize\" and select the text encoding icon. Slide it to the menu on the right. It now appears in your menu bar. Click on it and select \"Unicode\" instead of \"occidental\"."
   ]
  },
  {
   "cell_type": "code",
   "execution_count": null,
   "metadata": {},
   "outputs": [],
   "source": [
    "#For more help on fastqc used in command line, you can always type:\n",
    "fastqc --help"
   ]
  },
  {
   "cell_type": "markdown",
   "metadata": {},
   "source": [
    "  "
   ]
  },
  {
   "cell_type": "markdown",
   "metadata": {},
   "source": [
    "---\n",
    "\n",
    "## **III - Mapping reads on *CParapsilosis* genome using BOWTIE algorithm (version 1.3.0)**\n"
   ]
  },
  {
   "cell_type": "markdown",
   "metadata": {},
   "source": [
    "Checking wich version of **BOWTIE** (http://bowtie-bio.sourceforge.net/manual.shtml) is used."
   ]
  },
  {
   "cell_type": "code",
   "execution_count": null,
   "metadata": {},
   "outputs": [],
   "source": [
    "bowtie --version"
   ]
  },
  {
   "cell_type": "markdown",
   "metadata": {},
   "source": [
    "\n",
    "### **1- Generating the indexes of the *C.parapsilosis* genome**\n",
    "The indexes are small files that tell a program where to look for data in a large data file. They are required for mapping algorithms, as they allow for faster processing of millions reads. With BOWTIE they are generated with the `bowtie-build` fonction."
   ]
  },
  {
   "cell_type": "code",
   "execution_count": null,
   "metadata": {},
   "outputs": [],
   "source": [
    "bowtie-build -q /srv/data/meg-m2-rnaseq/genome/C_parapsilosis_CGD.fasta C_parapsilosis "
   ]
  },
  {
   "cell_type": "markdown",
   "metadata": {},
   "source": [
    "The 6 created index files have the `.ebwt` suffix :"
   ]
  },
  {
   "cell_type": "code",
   "execution_count": null,
   "metadata": {},
   "outputs": [],
   "source": [
    "ls -lh *.ebwt"
   ]
  },
  {
   "cell_type": "markdown",
   "metadata": {},
   "source": [
    "### **2- Mapping the reads**\n",
    "We use BOWTIE, a mapper that is very simple and efficient. It's not recent at all, and cannot deal with intron-containing genome, but here it works fine.\n",
    "\n",
    "To start with, we will run BOWTIE on the two `.fastq` files. On section V of this notebbok, we will run it on the other `fastq.gz` samples."
   ]
  },
  {
   "cell_type": "code",
   "execution_count": null,
   "metadata": {},
   "outputs": [],
   "source": [
    "# the -S option tells bowtie to generate a .sam file  \n",
    "# the -x option indicates the prefix name of the various index files \n",
    "# the you specify the name of the fastq file\n",
    "# the last argument is the name of the output file, here located directly into the Results folder ./Results/\n",
    "\n",
    "bowtie -S -x C_parapsilosis /srv/data/meg-m2-rnaseq/experimental_data/Normoxia_1.fastq ./Results/Normoxia_1_bowtie_mapping.sam"
   ]
  },
  {
   "cell_type": "code",
   "execution_count": null,
   "metadata": {},
   "outputs": [],
   "source": [
    "bowtie -S -x C_parapsilosis /srv/data/meg-m2-rnaseq/experimental_data/Hypoxia_1.fastq ./Results/Hypoxia_1_bowtie_mapping.sam"
   ]
  },
  {
   "cell_type": "markdown",
   "metadata": {},
   "source": [
    "<div class=\"alert alert-block alert-success\"><b>=> Question: What can you say on the data?</b><br>\n",
    "\n",
    "*(you can click here to add your answers directly in this markdown cell)*<br>\n",
    "\n",
    "For each dataset, how many reads were:\n",
    "- processed?  \n",
    "- mapped?  \n",
    "- written in the output file?</div>"
   ]
  },
  {
   "cell_type": "markdown",
   "metadata": {},
   "source": [
    "---\n",
    "\n",
    "## **IV - Managing the output files**\n",
    "\n",
    "### **1- Converting, sorting and indexing the output files**\n",
    "The downstream analysis is not performed on `.sam` files, but on binary versions of these : `bam` files.  \n",
    "So we are going to:  \n",
    "- convert the `sam` into `bam` files, \n",
    "- then sort them in genomic order,  \n",
    "- finally index them, to produce the companion `bai` files"
   ]
  },
  {
   "cell_type": "markdown",
   "metadata": {},
   "source": [
    "The commands used for this part belong to a large package of utilities that are very useful to manage those types of files: **SAMTOOLS** (http://www.htslib.org/).  \n",
    "\n",
    "  Let's check first which version of SAMTOOLS we are using."
   ]
  },
  {
   "cell_type": "code",
   "execution_count": null,
   "metadata": {},
   "outputs": [],
   "source": [
    "samtools --version"
   ]
  },
  {
   "cell_type": "markdown",
   "metadata": {},
   "source": [
    "<br>- We will start first with the ***Normoxia dataset:***"
   ]
  },
  {
   "cell_type": "markdown",
   "metadata": {},
   "source": [
    "#### **1.a-** Converting .sam into .bam with **samtools view**"
   ]
  },
  {
   "cell_type": "code",
   "execution_count": null,
   "metadata": {},
   "outputs": [],
   "source": [
    "# The 'view' function allows to display bam/sam files, \n",
    "# -b is to specify that outputs are .bam files\n",
    "# it is followed by the name of the .sam\n",
    "# -o is to provide the name of the ouput .bam file.\n",
    "\n",
    "samtools view -b ./Results/Normoxia_1_bowtie_mapping.sam -o ./Results/Normoxia_1_bowtie_mapping.bam"
   ]
  },
  {
   "cell_type": "markdown",
   "metadata": {},
   "source": [
    "#### **1.b-** Sorting .bam with **samtools sort**\n",
    "\n",
    "Again, `-o` is to provide the name of the ouput file."
   ]
  },
  {
   "cell_type": "code",
   "execution_count": null,
   "metadata": {},
   "outputs": [],
   "source": [
    "samtools sort ./Results/Normoxia_1_bowtie_mapping.bam -o ./Results/Normoxia_1_bowtie_mapping.sorted.bam"
   ]
  },
  {
   "cell_type": "markdown",
   "metadata": {},
   "source": [
    "#### **1.c-** Generating an index with **samtools index**.  \n",
    "There is no need to provide a name of the ouput file, as it should always be the same as the corresponding *bam* file, except for the `.bai` suffix."
   ]
  },
  {
   "cell_type": "code",
   "execution_count": null,
   "metadata": {},
   "outputs": [],
   "source": [
    "samtools index ./Results/Normoxia_1_bowtie_mapping.sorted.bam"
   ]
  },
  {
   "cell_type": "markdown",
   "metadata": {},
   "source": [
    "<br>***- For the Hypoxia data set***, we can proceed to the 3 steps in the same cell: the commands will be executed one after another:"
   ]
  },
  {
   "cell_type": "code",
   "execution_count": null,
   "metadata": {},
   "outputs": [],
   "source": [
    "samtools view -b ./Results/Hypoxia_1_bowtie_mapping.sam -o ./Results/Hypoxia_1_bowtie_mapping.bam\n",
    "samtools sort ./Results/Hypoxia_1_bowtie_mapping.bam -o ./Results/Hypoxia_1_bowtie_mapping.sorted.bam\n",
    "samtools index ./Results/Hypoxia_1_bowtie_mapping.sorted.bam"
   ]
  },
  {
   "cell_type": "markdown",
   "metadata": {},
   "source": [
    "### **2- Removing the intermediate files**  \n",
    "The only files needed for the rest of the analysis are the `mapped.sorted.bam` files and their corresponding `.bai` index files. So we are going to save some space by deleting the intermediate files that are not needed any more. (Anyway you can easily produce them again, by running the corresponding Code cell above).  \n",
    "You can delete a file by right-clicking on it and choosing 'x Delete', or by running the *rm* command (remove) in a cell:"
   ]
  },
  {
   "cell_type": "code",
   "execution_count": null,
   "metadata": {},
   "outputs": [],
   "source": [
    "rm ./Results/Normoxia_1_bowtie_mapping.bam\n",
    "rm ./Results/Hypoxia_1_bowtie_mapping.bam"
   ]
  },
  {
   "cell_type": "code",
   "execution_count": null,
   "metadata": {},
   "outputs": [],
   "source": [
    "# removing all the .sam files at the same time\n",
    "\n",
    "rm ./Results/*.sam"
   ]
  },
  {
   "cell_type": "markdown",
   "metadata": {},
   "source": [
    "___\n",
    "\n",
    "## **V - Analysis of the other 8 samples**"
   ]
  },
  {
   "cell_type": "markdown",
   "metadata": {},
   "source": [
    "The complete study involves 6 Normoxia samples and 4 Hypoxia samples. For the remaining 8 samples, we will perform a batch analysis (all the steps together, for multiple files at once) :\n",
    "- quality check with fastqc\n",
    "- mapping with bowtie\n",
    "- sam-to-bam conversion with samtools\n",
    "- bam sorting and indexing with samtools\n",
    "- removal of intermediate files\n",
    "\n"
   ]
  },
  {
   "cell_type": "markdown",
   "metadata": {},
   "source": [
    "FASTQC can deal with several files without a loop."
   ]
  },
  {
   "cell_type": "code",
   "execution_count": null,
   "metadata": {},
   "outputs": [],
   "source": [
    "fastqc /srv/data/meg-m2-rnaseq/experimental_data/*.fastqsanger.gz --outdir ./Results/Fastqc"
   ]
  },
  {
   "cell_type": "markdown",
   "metadata": {},
   "source": [
    "For the next steps, we use a `for` **loop**, that will run the program once for each element in the provided list, and produce the properly-named output files.\n",
    "\n",
    "> Here are some explanations on the loop:<br>\n",
    "> - `fn` is used as a variable to define the \"filenames\" in the folder containing the data; for each file, we iterate the loop\n",
    "> - `${}` is used to say we are using a predefined variable\n",
    "> - an `id` variable is created with the prefix name of the fastqsanger.gz files\n",
    "> - `basename` is used as a shortcut to extract the name of the file from its absolute path: only the name of the file is kept\n",
    "> - `cut` is used to split the basename file with `.` as separator defined with the `-d` argument, then `-f1` is used to keep only the first element before the first `.`\n",
    "> - `echo` is used to print a message\n",
    "> - we then define the variable `mysortedbam` with the name of the output and its relative path\n",
    "> - then we use the bowtie command but we redirect its output to samtools using the pipe `|`\n",
    "> - for samtools, the `-` is given instead of the name of the input file to specify this is the output of the command on the left of the pipe; idem for the next pipe\n",
    "> - we save here only the sorted.bam and the .sorted.bam.bai files without intermediate files\n",
    ">\n",
    "<div class=\"alert alert-block alert-danger\"><b>Danger:<br></b>The loop will probably take ~30 minutes to 1 hour. It generates <b>temporary \"bam.tmp\" files</b> in the Results folder.<br> <b>Do not delete them during the process!</b> Once the sample is processed, the server will automatically delete these temporary files</div>"
   ]
  },
  {
   "cell_type": "code",
   "execution_count": null,
   "metadata": {},
   "outputs": [],
   "source": [
    "date\n",
    "\n",
    "for fn in $(ls /srv/data/meg-m2-rnaseq/experimental_data/*.fastqsanger.gz); do\n",
    "       \n",
    "    id=$(basename ${fn} | cut -d. -f1)\n",
    "    echo \"========Processing sampleID: ${id}...\"\n",
    "    \n",
    "    myoutsortedbam=\"./Results/${id}_bowtie_mapping.sorted.bam\"\n",
    "    bowtie -S -x C_parapsilosis ${fn} | samtools view -b - | samtools sort - -o $myoutsortedbam\n",
    "    samtools index $myoutsortedbam  \n",
    "\n",
    "    echo \"...done\"\n",
    "    \n",
    "done\n",
    "date"
   ]
  },
  {
   "cell_type": "markdown",
   "metadata": {},
   "source": [
    "<div class=\"alert alert-block alert-success\"><b>Success:</b> Don't forget to save you notebook and export a copy as an <b>html</b> file as well <br>\n",
    "- Open \"File\" in the Menu<br>\n",
    "- Select \"Export Notebook As\"<br>\n",
    "- Export notebook as HTML<br>\n",
    "- You can then open it in your browser even without being connected to adenine! </div>"
   ]
  },
  {
   "cell_type": "markdown",
   "metadata": {},
   "source": [
    "\n",
    "___\n",
    "___\n",
    "\n",
    "Now we go on with a lecture about what is indicated in the output sorted *bam* files. \n",
    "\n",
    "**=> Lecture 5 : Mapping output** "
   ]
  }
 ],
 "metadata": {
  "kernelspec": {
   "display_name": "Bash",
   "language": "bash",
   "name": "bash"
  },
  "language_info": {
   "codemirror_mode": "shell",
   "file_extension": ".sh",
   "mimetype": "text/x-sh",
   "name": "bash"
  }
 },
 "nbformat": 4,
 "nbformat_minor": 4
}

{
 "cells": [
  {
   "cell_type": "markdown",
   "metadata": {},
   "source": [
    "# **RNAseq Analysis Module**"
   ]
  },
  {
   "cell_type": "markdown",
   "metadata": {},
   "source": [
    "## **Practical session 4: Mapping output quality check**\n",
    "\n",
    "Wednesday, the 2nd of December, 2020   \n",
    "Claire Vandiedonck and Sandrine Caburet - 2020   \n",
    "\n",
    "\n",
    "   1. Quality reports with qualimap, on sorted bam files (outputs of mapping with bowtie)  \n",
    "   2. multiqc to Generation of a single report for all quality checks at once with multiqc  \n",
    "   3. Visualisation of the mapped data, with IGV \n",
    "\n"
   ]
  },
  {
   "cell_type": "markdown",
   "metadata": {},
   "source": [
    "---\n",
    "## **Before going further**\n",
    "\n",
    "<div class=\"alert alert-block alert-danger\"><b>Caution:</b> \n",
    "Before starting the analysis, save a backup copy of this notebok : in the left-hand panel, right-click on this file and select \"Duplicate\"<br>\n",
    "You can also make backups during the analysis. Don't forget to save your notebook regularly.\n",
    "</div>"
   ]
  },
  {
   "cell_type": "markdown",
   "metadata": {},
   "source": [
    "___\n",
    "\n",
    "## **I - Mapping quality check**\n"
   ]
  },
  {
   "cell_type": "markdown",
   "metadata": {},
   "source": [
    "After the mapping steps that we performed yesterday, we are going to check the outputs for the quality of the mapping procedure.\n",
    "\n",
    "### **1. with QUALIMAP**\n",
    "    \n",
    "So first we'll run the **QUALIMAP** program (http://qualimap.conesalab.org/), that collects the data about the `.bam` file, including coverage estimation and many other parameters, and reports a summary of the main properties of the alignment data. QUALIMAP reads `.sorted.bam` files and generates a folder containing a report on `.html` format.\n",
    "\n",
    "As you can see from the next command to know which version we are running, QUALIMAP includes several tools. We will be using the classical **bamqc** tool which can work on any kind of NGS `.bam` files. Of note, there is also a **rnaqc** tool which is dedicated to RNASeq data but it fails to run with C. Parapsilosis annotations."
   ]
  },
  {
   "cell_type": "code",
   "execution_count": null,
   "metadata": {},
   "outputs": [],
   "source": [
    "qualimap --help"
   ]
  },
  {
   "cell_type": "markdown",
   "metadata": {},
   "source": [
    "> Remark: QUALIMAP can also be launched on most OS using a command line that will open a user-friendly Java window. On Mac or Windows, you may have to modify the memory RAMs to run it. It is all explained in the documentation."
   ]
  },
  {
   "cell_type": "code",
   "execution_count": null,
   "metadata": {},
   "outputs": [],
   "source": [
    "# Contents of the Results folder\n",
    "ls -lh ./Results"
   ]
  },
  {
   "cell_type": "markdown",
   "metadata": {},
   "source": [
    "The files analysed by QUALIMAP are the sorted bam files. Here are the ones corresponding to the samples that were mapped yesterday: "
   ]
  },
  {
   "cell_type": "code",
   "execution_count": null,
   "metadata": {},
   "outputs": [],
   "source": [
    "ls -lh ./Results/*.sorted.bam"
   ]
  },
  {
   "cell_type": "markdown",
   "metadata": {},
   "source": [
    "If we wanted to run QUALIMAP on a single file, e.g the Normoxia one, the command line woould be as follow:"
   ]
  },
  {
   "cell_type": "raw",
   "metadata": {},
   "source": [
    "qualimap bamqc -bam ./Results/Normoxia_1_bowtie_mapping.sorted.bam -c --feature-file /srv/data/meg-m2-rnaseq/genome/C_parapsilosis_ORFs.gff -outdir ./Results/normoxia_qualimap"
   ]
  },
  {
   "cell_type": "markdown",
   "metadata": {},
   "source": [
    "To get a properly-named folder for each bam file analysed by Qualimap, the program will be run in a `for loop`, that will run the program once for each element in the provided list."
   ]
  },
  {
   "cell_type": "markdown",
   "metadata": {},
   "source": [
    "Let's understand the command of the loop stepwise.\n",
    "\n",
    "- First we list all the .bam files with `ls`"
   ]
  },
  {
   "cell_type": "code",
   "execution_count": null,
   "metadata": {},
   "outputs": [],
   "source": [
    "ls ./Results/*.sorted.bam"
   ]
  },
  {
   "cell_type": "markdown",
   "metadata": {},
   "source": [
    "- Then we identify the filenames and do a loop:"
   ]
  },
  {
   "cell_type": "code",
   "execution_count": null,
   "metadata": {},
   "outputs": [],
   "source": [
    "for fn in $(ls ./Results/*.sorted.bam); do\n",
    "    echo ${fn}\n",
    "done"
   ]
  },
  {
   "cell_type": "markdown",
   "metadata": {},
   "source": [
    "- Then we create a `mysortedbam` variable with the name of the file without the path. To do so, we use the command `basename`. "
   ]
  },
  {
   "cell_type": "code",
   "execution_count": null,
   "metadata": {},
   "outputs": [],
   "source": [
    "for fn in $(ls ./Results/*.sorted.bam); do\n",
    "     \n",
    " mysortedbam=$(basename ${fn})\n",
    " echo ${mysortedbam}\n",
    " \n",
    "done"
   ]
  },
  {
   "cell_type": "markdown",
   "metadata": {},
   "source": [
    "- Then we generate an `id` with the prefix part of the fullid we want to keep. The command below allows to substitute what is between the `\\` by nothing."
   ]
  },
  {
   "cell_type": "code",
   "execution_count": null,
   "metadata": {},
   "outputs": [],
   "source": [
    "for fn in $(ls ./Results/*.sorted.bam); do\n",
    "     \n",
    "    mysortedbam=$(basename ${fn})\n",
    "    id=${mysortedbam/_bowtie_mapping.sorted.bam/}\n",
    "    echo \"========Processing sampleID: ${id}\"\n",
    " \n",
    "done"
   ]
  },
  {
   "cell_type": "markdown",
   "metadata": {},
   "source": [
    "- Now we create a new variable `myoutdir` to specify the name of the output directory"
   ]
  },
  {
   "cell_type": "code",
   "execution_count": null,
   "metadata": {},
   "outputs": [],
   "source": [
    "#Runs for multiple html outputs, with relevant names\n",
    "\n",
    "for fn in $(ls ./Results/*.sorted.bam); do\n",
    "     \n",
    "    mysortedbam=$(basename ${fn})\n",
    "    id=${mysortedbam/_bowtie_mapping.sorted.bam/}\n",
    "    echo \"========Processing sampleID: ${id}\"\n",
    "     \n",
    "    myoutdir=\"./Results/${id}_qualimap\" \n",
    "    echo ${myoutdir}\n",
    "done"
   ]
  },
  {
   "cell_type": "markdown",
   "metadata": {},
   "source": [
    "- Now we are ready to add the qualimap command!"
   ]
  },
  {
   "cell_type": "code",
   "execution_count": null,
   "metadata": {},
   "outputs": [],
   "source": [
    "#Runs for multiple html outputs, with relevant names\n",
    "\n",
    "for fn in $(ls ./Results/*.sorted.bam); do\n",
    "     \n",
    "    mysortedbam=$(basename ${fn})\n",
    "    id=${mysortedbam/_bowtie_mapping.sorted.bam/}\n",
    "    echo \"========Processing sampleID: ${id}\"\n",
    "     \n",
    "    myoutdir=\"./Results/${id}_qualimap\" \n",
    "    echo ${myoutdir} \n",
    "    qualimap bamqc -bam ${fn} -gff /srv/data/meg-m2-rnaseq/genome/C_parapsilosis_ORFs.gff -outdir $myoutdir \n",
    "    echo \"...done\"\n",
    "\n",
    "done"
   ]
  },
  {
   "cell_type": "markdown",
   "metadata": {},
   "source": [
    "---\n",
    "\n",
    "### **2. with SAMTOOLS**\n",
    "    \n",
    "**SAMTOOLS** we already used yesterday (v1.11) includes also very usefull tools to QC bams:\n",
    "\n"
   ]
  },
  {
   "cell_type": "code",
   "execution_count": null,
   "metadata": {},
   "outputs": [],
   "source": [
    "mkdir ./Results/Flags_Stats\n",
    "\n",
    "for fn in $(ls ./Results/*.sorted.bam); do\n",
    "\n",
    "    mysortedbam=$(basename ${fn})\n",
    "    id=${mysortedbam/_bowtie_mapping.sorted.bam/}\n",
    "    echo \"========Processing sampleID: ${id}\"\n",
    "\n",
    "    samtools stats ${fn} > ./Results/Flags_Stats/${id}.stats\n",
    "    samtools flagstats ${fn} > ./Results/Flags_Stats/${id}.flagstats\n",
    "done"
   ]
  },
  {
   "cell_type": "markdown",
   "metadata": {},
   "source": [
    "You can open the generated files directly in JupyterLab by clicking on them from th eleft-hand panel."
   ]
  },
  {
   "cell_type": "markdown",
   "metadata": {},
   "source": [
    "___\n",
    "\n",
    "## **II - Compiling the quality check reports**\n",
    "\n",
    "When numerous samples are processed, it can easily become tedious to look in each mapping quality report. So we'll run **MultiQC** (https://multiqc.info/), that scans automatically a folder for all quality checks outputs and produce a single report. MULTIQC runs on almost any possible NGS tools (https://multiqc.info/docs/#multiqc-modules).\n"
   ]
  },
  {
   "cell_type": "code",
   "execution_count": null,
   "metadata": {},
   "outputs": [],
   "source": [
    "multiqc --version"
   ]
  },
  {
   "cell_type": "code",
   "execution_count": null,
   "metadata": {},
   "outputs": [],
   "source": [
    "# Here we do not specify modules for multiQC. \n",
    "multiqc --interactive ./Results/ -o ./Results/MultiQC\n",
    "\n",
    "#By default, multiQC identifies any report it can parse from the input directory.\n",
    "# If you want to only generate a multiQC report on specific analyses, you can add the argument -m followed by the name of the module\n",
    "# example:\n",
    "# multiqc -m fastqc ./Results/Fastqc/ -o/Results/MultiQC_on_FastQC\n",
    "# you can add several modules -m fastqc dir_fastqc -m qualimap dirqualimap etc..."
   ]
  },
  {
   "cell_type": "markdown",
   "metadata": {},
   "source": [
    "To open the report, double-click on the multiqc_report.html in the left-hand panel. Enjoy !"
   ]
  },
  {
   "cell_type": "markdown",
   "metadata": {},
   "source": [
    "<div class=\"alert alert-block alert-success\"><b>=> Question: What can you say on the data?</b><br>\n",
    "\n",
    "<em>(you can click here to add your answers directly in this markdown cell)</em><br>\n",
    "    \n",
    "- What are the proportions of reads properly mapped to the reference genome?\n",
    "- What do you think about the depth?\n",
    "- How do you explain that some reads were not mapped?\n",
    "- Is there a link between the fastqc read qualities and the bam qualities?\n",
    "</div>    "
   ]
  },
  {
   "cell_type": "markdown",
   "metadata": {},
   "source": [
    "___\n",
    "\n",
    "## **III - Visualisation of mapped data with IGV**\n",
    "\n",
    "IGV (Integrated Genome Viewer) (http://software.broadinstitute.org/software/igv/) is the most populat browser for visualising NGS data.\n",
    "\n",
    "In Unix, the command to start IGV is `igv` or `igv.sh` depending on the name of the launching script. A Java window would thus open. "
   ]
  },
  {
   "cell_type": "markdown",
   "metadata": {},
   "source": [
    "Unfortunately, the widget for \"mounting\" IGV within a jupyter notebook is not ready yet (development in progress).\n",
    "\n",
    "So we will look at the mapped data using the IGV desktop app (avalaible here: http://software.broadinstitute.org/software/igv/download)\n",
    "To avoid any lengthy download, the data can be retrieved from the Galaxy history (cf Practical Session 2, https://usegalaxy.eu/) and pushed into IGV via the _*display with IGV local*_ link, available when \"opening\" the title of a dataset.  \n",
    "\n",
    "> If you have trouble with your own history, one is available with relevant datasets here: https://usegalaxy.eu/u/scaburet/h/rnaseq-candida-data-analysis"
   ]
  },
  {
   "cell_type": "markdown",
   "metadata": {},
   "source": [
    "<div class=\"alert alert-block alert-success\"><b>=> Question: What can you say on the data?</b><br>\n",
    "\n",
    "<em>(you can click here to add your answers directly in this markdown cell)</em><br>\n",
    "    \n",
    "-  Is your RNASeq strand specific?\n",
    "-  Do you see any difference between hypoxia and normoxia files?\n",
    "-  Do your data fit the results of the paper? \n",
    "</div>"
   ]
  },
  {
   "cell_type": "markdown",
   "metadata": {},
   "source": [
    "<div class=\"alert alert-block alert-success\"><b>Success:</b> Don't forget to save you notebook and export a copy as an <b>html</b> file as well <br>\n",
    "- Open \"File\" in the Menu<br>\n",
    "- Select \"Export Notebook As\"<br>\n",
    "- Export notebook as HTML<br>\n",
    "- You can then open it in your browser even without being connected to adenine! \n",
    "</div>"
   ]
  },
  {
   "cell_type": "markdown",
   "metadata": {},
   "source": [
    "---\n",
    "___\n",
    "\n",
    "Now we go on with a lecture about the quantification of mapped RNAseq data. \n",
    "\n",
    "**=> Lecture 5 : Normalisation and quantification of expression** \n",
    "\n",
    "___"
   ]
  },
  {
   "cell_type": "markdown",
   "metadata": {},
   "source": [
    "<div class=\"alert alert-block alert-info\"> \n",
    "    \n",
    "<b><em> About jupyter notebooks:</em></b><br>\n",
    "\n",
    "- To add a new cell, click on the \"+\" icon in the toolbar above your notebook <br>\n",
    "- You can \"click and drag\" to move a cell up or down <br>\n",
    "- You choose the type of cell in the toolbar above your notebook: <br>\n",
    "    - 'Code' to enter command lines to be executed <br>\n",
    "    - 'Markdown' cells to add text, that can be formatted with some characters <br>\n",
    "- To execute a 'Code' cell, press SHIFT+ENTER or click on the \"play\" icon  <br>\n",
    "- To display a 'Markdown' cell, press SHIFT+ENTER or click on the \"play\" icon  <br>\n",
    "- To modify a 'Markdown'cell, double-click on it <br>\n",
    "<br>    \n",
    "\n",
    "<em>  \n",
    "To make nice html reports with markdown: <a href=\"https://dillinger.io/\" title=\"dillinger.io\">html visualization tool 1</a> or <a href=\"https://stackedit.io/app#\" title=\"stackedit.io\">html visualization tool 2</a>, <a href=\"https://www.tablesgenerator.com/markdown_tables\" title=\"tablesgenerator.com\">to draw nice tables</a>, and the <a href=\"https://medium.com/analytics-vidhya/the-ultimate-markdown-guide-for-jupyter-notebook-d5e5abf728fd\" title=\"Ultimate guide\">Ultimate guide</a>. <br>\n",
    "Further reading on JupyterLab notebooks: <a href=\"https://jupyterlab.readthedocs.io/en/latest/user/notebook.html\" title=\"Jupyter Lab\">Jupyter Lab documentation</a>.<br>\n",
    "    \n",
    "Here we are using JupyterLab interface implemented as part of the <a href=\"https://plasmabio.org/\" title=\"plasmabio.org\">Plasmabio</a> project led by Sandrine Caburet, Pierre Poulain and Claire Vandiedonck.\n",
    "</em>\n",
    "</div>"
   ]
  }
 ],
 "metadata": {
  "kernelspec": {
   "display_name": "Bash",
   "language": "bash",
   "name": "bash"
  },
  "language_info": {
   "codemirror_mode": "shell",
   "file_extension": ".sh",
   "mimetype": "text/x-sh",
   "name": "bash"
  }
 },
 "nbformat": 4,
 "nbformat_minor": 4
}
